{
 "cells": [
  {
   "cell_type": "code",
   "execution_count": 1,
   "id": "0f1684c8",
   "metadata": {},
   "outputs": [
    {
     "ename": "SyntaxError",
     "evalue": "invalid syntax (Temp/ipykernel_28060/1259752121.py, line 1)",
     "output_type": "error",
     "traceback": [
      "\u001b[1;36m  File \u001b[1;32m\"C:\\Users\\HP\\AppData\\Local\\Temp/ipykernel_28060/1259752121.py\"\u001b[1;36m, line \u001b[1;32m1\u001b[0m\n\u001b[1;33m    hello world\u001b[0m\n\u001b[1;37m          ^\u001b[0m\n\u001b[1;31mSyntaxError\u001b[0m\u001b[1;31m:\u001b[0m invalid syntax\n"
     ]
    }
   ],
   "source": [
    "hello world\n"
   ]
  },
  {
   "cell_type": "code",
   "execution_count": 2,
   "id": "4525444c",
   "metadata": {},
   "outputs": [
    {
     "data": {
      "text/plain": [
       "'hello world'"
      ]
     },
     "execution_count": 2,
     "metadata": {},
     "output_type": "execute_result"
    }
   ],
   "source": [
    "\"hello world\""
   ]
  },
  {
   "cell_type": "code",
   "execution_count": 3,
   "id": "a681672e",
   "metadata": {},
   "outputs": [
    {
     "data": {
      "text/plain": [
       "'hi'"
      ]
     },
     "execution_count": 3,
     "metadata": {},
     "output_type": "execute_result"
    }
   ],
   "source": [
    "\"hi\""
   ]
  },
  {
   "cell_type": "code",
   "execution_count": 4,
   "id": "7b95707c",
   "metadata": {},
   "outputs": [
    {
     "name": "stdout",
     "output_type": "stream",
     "text": [
      "hello world\n"
     ]
    }
   ],
   "source": [
    "print('hello world')"
   ]
  },
  {
   "cell_type": "code",
   "execution_count": 5,
   "id": "d5c9934c",
   "metadata": {},
   "outputs": [
    {
     "name": "stdout",
     "output_type": "stream",
     "text": [
      "0.7142857142857143\n"
     ]
    }
   ],
   "source": [
    "x=5\n",
    "y=7\n",
    "print(x/y)"
   ]
  },
  {
   "cell_type": "code",
   "execution_count": 6,
   "id": "ea8d4281",
   "metadata": {},
   "outputs": [
    {
     "data": {
      "text/plain": [
       "5"
      ]
     },
     "execution_count": 6,
     "metadata": {},
     "output_type": "execute_result"
    }
   ],
   "source": [
    "x%y"
   ]
  },
  {
   "cell_type": "code",
   "execution_count": 1,
   "id": "0679199f",
   "metadata": {},
   "outputs": [
    {
     "name": "stdout",
     "output_type": "stream",
     "text": [
      "age?22\n",
      "My age is 22\n"
     ]
    }
   ],
   "source": [
    "x=input(\"age?\")\n",
    "print(\"My age is {}\".format(x))"
   ]
  },
  {
   "cell_type": "code",
   "execution_count": 2,
   "id": "07dca5c4",
   "metadata": {},
   "outputs": [
    {
     "data": {
      "text/plain": [
       "'t'"
      ]
     },
     "execution_count": 2,
     "metadata": {},
     "output_type": "execute_result"
    }
   ],
   "source": [
    "x='digital'\n",
    "x[4]"
   ]
  },
  {
   "cell_type": "code",
   "execution_count": 3,
   "id": "ce728c54",
   "metadata": {},
   "outputs": [
    {
     "data": {
      "text/plain": [
       "'digi'"
      ]
     },
     "execution_count": 3,
     "metadata": {},
     "output_type": "execute_result"
    }
   ],
   "source": [
    "x='digital'\n",
    "x[:4]"
   ]
  },
  {
   "cell_type": "code",
   "execution_count": 4,
   "id": "0cb183e3",
   "metadata": {},
   "outputs": [
    {
     "ename": "SyntaxError",
     "evalue": "invalid syntax (Temp/ipykernel_22096/396337656.py, line 2)",
     "output_type": "error",
     "traceback": [
      "\u001b[1;36m  File \u001b[1;32m\"C:\\Users\\HP\\AppData\\Local\\Temp/ipykernel_22096/396337656.py\"\u001b[1;36m, line \u001b[1;32m2\u001b[0m\n\u001b[1;33m    x=[2:6]\u001b[0m\n\u001b[1;37m        ^\u001b[0m\n\u001b[1;31mSyntaxError\u001b[0m\u001b[1;31m:\u001b[0m invalid syntax\n"
     ]
    }
   ],
   "source": [
    "x='digital'\n",
    "x=[2:6]"
   ]
  },
  {
   "cell_type": "code",
   "execution_count": 5,
   "id": "07980f16",
   "metadata": {},
   "outputs": [
    {
     "data": {
      "text/plain": [
       "'gita'"
      ]
     },
     "execution_count": 5,
     "metadata": {},
     "output_type": "execute_result"
    }
   ],
   "source": [
    "x[2:6]"
   ]
  },
  {
   "cell_type": "code",
   "execution_count": 6,
   "id": "fd2f08e6",
   "metadata": {},
   "outputs": [
    {
     "data": {
      "text/plain": [
       "['a', 'd', 'x', 5]"
      ]
     },
     "execution_count": 6,
     "metadata": {},
     "output_type": "execute_result"
    }
   ],
   "source": [
    "my_list=['a','d','x',5] #list\n",
    "my_list"
   ]
  },
  {
   "cell_type": "code",
   "execution_count": 7,
   "id": "36794e0d",
   "metadata": {},
   "outputs": [
    {
     "data": {
      "text/plain": [
       "['a', 'd', 'x', 5, 'd']"
      ]
     },
     "execution_count": 7,
     "metadata": {},
     "output_type": "execute_result"
    }
   ],
   "source": [
    "my_list.append('d')\n",
    "my_list"
   ]
  },
  {
   "cell_type": "markdown",
   "id": "94081b19",
   "metadata": {},
   "source": [
    "#dictionary"
   ]
  },
  {
   "cell_type": "code",
   "execution_count": 8,
   "id": "31c85133",
   "metadata": {},
   "outputs": [],
   "source": [
    "di1={'key1':[1,2,3]}"
   ]
  },
  {
   "cell_type": "code",
   "execution_count": 9,
   "id": "4cec7df4",
   "metadata": {},
   "outputs": [
    {
     "data": {
      "text/plain": [
       "{'key1': [1, 2, 3]}"
      ]
     },
     "execution_count": 9,
     "metadata": {},
     "output_type": "execute_result"
    }
   ],
   "source": [
    "di1"
   ]
  },
  {
   "cell_type": "code",
   "execution_count": 10,
   "id": "b2b4de77",
   "metadata": {},
   "outputs": [
    {
     "data": {
      "text/plain": [
       "1"
      ]
     },
     "execution_count": 10,
     "metadata": {},
     "output_type": "execute_result"
    }
   ],
   "source": [
    "di1['key1'][0]"
   ]
  },
  {
   "cell_type": "markdown",
   "id": "0e9a41c5",
   "metadata": {},
   "source": [
    "#tuple\n"
   ]
  },
  {
   "cell_type": "code",
   "execution_count": 11,
   "id": "b4b9d296",
   "metadata": {},
   "outputs": [],
   "source": [
    "tup=(1,2,3)"
   ]
  },
  {
   "cell_type": "code",
   "execution_count": 12,
   "id": "5db0b87a",
   "metadata": {},
   "outputs": [
    {
     "data": {
      "text/plain": [
       "(1, 2, 3)"
      ]
     },
     "execution_count": 12,
     "metadata": {},
     "output_type": "execute_result"
    }
   ],
   "source": [
    "tup"
   ]
  },
  {
   "cell_type": "code",
   "execution_count": 13,
   "id": "4808f0a1",
   "metadata": {},
   "outputs": [
    {
     "data": {
      "text/plain": [
       "1"
      ]
     },
     "execution_count": 13,
     "metadata": {},
     "output_type": "execute_result"
    }
   ],
   "source": [
    "tup[0]"
   ]
  },
  {
   "cell_type": "code",
   "execution_count": 14,
   "id": "059105e1",
   "metadata": {},
   "outputs": [
    {
     "ename": "TypeError",
     "evalue": "'tuple' object does not support item assignment",
     "output_type": "error",
     "traceback": [
      "\u001b[1;31m---------------------------------------------------------------------------\u001b[0m",
      "\u001b[1;31mTypeError\u001b[0m                                 Traceback (most recent call last)",
      "\u001b[1;32m~\\AppData\\Local\\Temp/ipykernel_22096/3496775977.py\u001b[0m in \u001b[0;36m<module>\u001b[1;34m\u001b[0m\n\u001b[1;32m----> 1\u001b[1;33m \u001b[0mtup\u001b[0m\u001b[1;33m[\u001b[0m\u001b[1;36m0\u001b[0m\u001b[1;33m]\u001b[0m\u001b[1;33m=\u001b[0m\u001b[1;34m'new'\u001b[0m\u001b[1;33m\u001b[0m\u001b[1;33m\u001b[0m\u001b[0m\n\u001b[0m",
      "\u001b[1;31mTypeError\u001b[0m: 'tuple' object does not support item assignment"
     ]
    }
   ],
   "source": [
    "tup[0]='new'"
   ]
  },
  {
   "cell_type": "code",
   "execution_count": 15,
   "id": "85abdbf9",
   "metadata": {},
   "outputs": [],
   "source": [
    "#tuple can't be ammended or reassigned"
   ]
  },
  {
   "cell_type": "markdown",
   "id": "5ba423a2",
   "metadata": {},
   "source": [
    "#sets"
   ]
  },
  {
   "cell_type": "code",
   "execution_count": 16,
   "id": "b63524db",
   "metadata": {},
   "outputs": [],
   "source": [
    "#sets are defined in curly brackets like dictionaries\n",
    "#sets have unique elements"
   ]
  },
  {
   "cell_type": "code",
   "execution_count": 17,
   "id": "39afbf2f",
   "metadata": {},
   "outputs": [
    {
     "data": {
      "text/plain": [
       "{11, 22, 23, 24}"
      ]
     },
     "execution_count": 17,
     "metadata": {},
     "output_type": "execute_result"
    }
   ],
   "source": [
    "{11,22,11,23,24}"
   ]
  },
  {
   "cell_type": "code",
   "execution_count": 18,
   "id": "0e3dd04a",
   "metadata": {},
   "outputs": [
    {
     "data": {
      "text/plain": [
       "{1, 2, 3, 4, 5, 6, 7, 8}"
      ]
     },
     "execution_count": 18,
     "metadata": {},
     "output_type": "execute_result"
    }
   ],
   "source": [
    "set([1,1,1,1,2,3,4,1,1,5,5,6,7,1,1,1,7,8])"
   ]
  },
  {
   "cell_type": "code",
   "execution_count": 19,
   "id": "95d5dcfa",
   "metadata": {},
   "outputs": [],
   "source": [
    "#set is mutable\n"
   ]
  },
  {
   "cell_type": "code",
   "execution_count": 20,
   "id": "570e6c49",
   "metadata": {},
   "outputs": [],
   "source": [
    "a=set([1,2,3])\n"
   ]
  },
  {
   "cell_type": "code",
   "execution_count": null,
   "id": "c3369fd8",
   "metadata": {},
   "outputs": [],
   "source": []
  },
  {
   "cell_type": "code",
   "execution_count": 21,
   "id": "4c67ddd5",
   "metadata": {},
   "outputs": [
    {
     "data": {
      "text/plain": [
       "{1, 2, 3}"
      ]
     },
     "execution_count": 21,
     "metadata": {},
     "output_type": "execute_result"
    }
   ],
   "source": [
    "a"
   ]
  },
  {
   "cell_type": "code",
   "execution_count": 22,
   "id": "83e17603",
   "metadata": {},
   "outputs": [],
   "source": [
    "a.add(5)"
   ]
  },
  {
   "cell_type": "code",
   "execution_count": 23,
   "id": "9ae51ae2",
   "metadata": {},
   "outputs": [
    {
     "data": {
      "text/plain": [
       "{1, 2, 3, 5}"
      ]
     },
     "execution_count": 23,
     "metadata": {},
     "output_type": "execute_result"
    }
   ],
   "source": [
    "a"
   ]
  },
  {
   "cell_type": "code",
   "execution_count": 24,
   "id": "ca6af72a",
   "metadata": {},
   "outputs": [
    {
     "data": {
      "text/plain": [
       "{1, 2, 3, 5}"
      ]
     },
     "execution_count": 24,
     "metadata": {},
     "output_type": "execute_result"
    }
   ],
   "source": [
    "a.add(5)\n",
    "a"
   ]
  },
  {
   "cell_type": "code",
   "execution_count": 25,
   "id": "3bf7580a",
   "metadata": {},
   "outputs": [
    {
     "data": {
      "text/plain": [
       "True"
      ]
     },
     "execution_count": 25,
     "metadata": {},
     "output_type": "execute_result"
    }
   ],
   "source": [
    "1<2\n"
   ]
  },
  {
   "cell_type": "code",
   "execution_count": 26,
   "id": "80c66e95",
   "metadata": {},
   "outputs": [
    {
     "name": "stdout",
     "output_type": "stream",
     "text": [
      "a is greater than 2\n"
     ]
    }
   ],
   "source": [
    "if my_list[3]>2:\n",
    "    print(\"a is greater than 2\")\n",
    "else: print('none')"
   ]
  },
  {
   "cell_type": "code",
   "execution_count": 27,
   "id": "66f49e7a",
   "metadata": {},
   "outputs": [
    {
     "name": "stdout",
     "output_type": "stream",
     "text": [
      "1\n",
      "2\n",
      "3\n",
      "4\n",
      "5\n"
     ]
    }
   ],
   "source": [
    "l1=[1,2,3,4,5]\n",
    "for app in l1:\n",
    "    print(app)"
   ]
  },
  {
   "cell_type": "code",
   "execution_count": 28,
   "id": "84ea7fbd",
   "metadata": {},
   "outputs": [
    {
     "name": "stdout",
     "output_type": "stream",
     "text": [
      "a number\n",
      "a number\n",
      "a number\n",
      "a number\n",
      "a number\n"
     ]
    }
   ],
   "source": [
    "for app in l1:\n",
    "    print(\"a number\")"
   ]
  },
  {
   "cell_type": "code",
   "execution_count": 29,
   "id": "1f2c9068",
   "metadata": {},
   "outputs": [
    {
     "name": "stdout",
     "output_type": "stream",
     "text": [
      "i is : 1\n",
      "i is : 2\n",
      "i is : 3\n",
      "i is : 4\n",
      "i is : 5\n"
     ]
    }
   ],
   "source": [
    "i=1\n",
    "while i<=5:\n",
    "    print(\"i is : {}\".format(i))\n",
    "    i=i+1"
   ]
  },
  {
   "cell_type": "code",
   "execution_count": 30,
   "id": "ad00d5c3",
   "metadata": {},
   "outputs": [
    {
     "data": {
      "text/plain": [
       "range(0, 10)"
      ]
     },
     "execution_count": 30,
     "metadata": {},
     "output_type": "execute_result"
    }
   ],
   "source": [
    "range(0,10)"
   ]
  },
  {
   "cell_type": "code",
   "execution_count": 31,
   "id": "149d23e9",
   "metadata": {},
   "outputs": [
    {
     "name": "stdout",
     "output_type": "stream",
     "text": [
      "0\n",
      "1\n",
      "2\n",
      "3\n",
      "4\n",
      "5\n",
      "6\n",
      "7\n",
      "8\n",
      "9\n"
     ]
    }
   ],
   "source": [
    "for x in range(0,10):\n",
    "    print(x)"
   ]
  },
  {
   "cell_type": "code",
   "execution_count": 32,
   "id": "7d354901",
   "metadata": {},
   "outputs": [
    {
     "data": {
      "text/plain": [
       "[0, 1, 2, 3, 4]"
      ]
     },
     "execution_count": 32,
     "metadata": {},
     "output_type": "execute_result"
    }
   ],
   "source": [
    "list(range(0,5))"
   ]
  },
  {
   "cell_type": "code",
   "execution_count": 33,
   "id": "bb8fee87",
   "metadata": {},
   "outputs": [],
   "source": [
    "a=[1,2,3,4]"
   ]
  },
  {
   "cell_type": "code",
   "execution_count": 34,
   "id": "36e2017b",
   "metadata": {},
   "outputs": [],
   "source": [
    "u=[]\n",
    "for b in a:\n",
    "    u.append(b+1)\n",
    "    "
   ]
  },
  {
   "cell_type": "code",
   "execution_count": 35,
   "id": "226eaf28",
   "metadata": {},
   "outputs": [
    {
     "data": {
      "text/plain": [
       "[2, 3, 4, 5]"
      ]
     },
     "execution_count": 35,
     "metadata": {},
     "output_type": "execute_result"
    }
   ],
   "source": [
    "u"
   ]
  },
  {
   "cell_type": "code",
   "execution_count": 36,
   "id": "57383ab0",
   "metadata": {},
   "outputs": [],
   "source": [
    "#alternate way"
   ]
  },
  {
   "cell_type": "code",
   "execution_count": 37,
   "id": "35bf1b41",
   "metadata": {},
   "outputs": [],
   "source": [
    "u=[b**2 for b in a]"
   ]
  },
  {
   "cell_type": "code",
   "execution_count": 38,
   "id": "125328ee",
   "metadata": {},
   "outputs": [
    {
     "data": {
      "text/plain": [
       "[1, 4, 9, 16]"
      ]
     },
     "execution_count": 38,
     "metadata": {},
     "output_type": "execute_result"
    }
   ],
   "source": [
    "u"
   ]
  },
  {
   "cell_type": "code",
   "execution_count": 39,
   "id": "5b0734fe",
   "metadata": {},
   "outputs": [],
   "source": [
    "#defining callable functions"
   ]
  },
  {
   "cell_type": "code",
   "execution_count": 40,
   "id": "43eac1f1",
   "metadata": {},
   "outputs": [],
   "source": [
    "def my_func(name):\n",
    "    x=input('age=')\n",
    "    print('My age is: {}'.format(x))\n",
    "    print('My name is {}'.format(name))"
   ]
  },
  {
   "cell_type": "code",
   "execution_count": 41,
   "id": "b03d7137",
   "metadata": {},
   "outputs": [
    {
     "name": "stdout",
     "output_type": "stream",
     "text": [
      "age=22\n",
      "My age is: 22\n",
      "My name is abc\n"
     ]
    },
    {
     "data": {
      "text/plain": [
       "9"
      ]
     },
     "execution_count": 41,
     "metadata": {},
     "output_type": "execute_result"
    }
   ],
   "source": [
    "my_func(\"abc\")\n",
    "x"
   ]
  },
  {
   "cell_type": "code",
   "execution_count": 44,
   "id": "5413d5ff",
   "metadata": {},
   "outputs": [],
   "source": [
    "#to return value using a function"
   ]
  },
  {
   "cell_type": "code",
   "execution_count": 45,
   "id": "9152210d",
   "metadata": {},
   "outputs": [],
   "source": [
    "def root(x):\n",
    "    \"\"\"\n",
    "    This is a function which returns square\n",
    "    root of a \n",
    "    number\n",
    "    \n",
    "    \"\"\"\n",
    "    return x**0.5"
   ]
  },
  {
   "cell_type": "code",
   "execution_count": 46,
   "id": "bc90b2e9",
   "metadata": {},
   "outputs": [],
   "source": [
    "u=root(2)"
   ]
  },
  {
   "cell_type": "code",
   "execution_count": 47,
   "id": "bac6bb34",
   "metadata": {},
   "outputs": [
    {
     "data": {
      "text/plain": [
       "1.4142135623730951"
      ]
     },
     "execution_count": 47,
     "metadata": {},
     "output_type": "execute_result"
    }
   ],
   "source": [
    "u"
   ]
  },
  {
   "cell_type": "code",
   "execution_count": 48,
   "id": "99d8ecba",
   "metadata": {},
   "outputs": [],
   "source": [
    "#a documentation string can be added in a function to speak of its objective using triple quote"
   ]
  },
  {
   "cell_type": "code",
   "execution_count": 49,
   "id": "25e3053b",
   "metadata": {},
   "outputs": [],
   "source": [
    "#it appears if function is written and shift+tab is used at the end"
   ]
  },
  {
   "cell_type": "code",
   "execution_count": 50,
   "id": "2f98f7f8",
   "metadata": {},
   "outputs": [
    {
     "data": {
      "text/plain": [
       "<function __main__.root(x)>"
      ]
     },
     "execution_count": 50,
     "metadata": {},
     "output_type": "execute_result"
    }
   ],
   "source": [
    "root"
   ]
  },
  {
   "cell_type": "code",
   "execution_count": 51,
   "id": "d8b6c1c3",
   "metadata": {},
   "outputs": [],
   "source": [
    "#map is used to replace a for loop and map a function on each entity of a list and create a new list"
   ]
  },
  {
   "cell_type": "code",
   "execution_count": 52,
   "id": "8f6a78d5",
   "metadata": {},
   "outputs": [
    {
     "data": {
      "text/plain": [
       "[1.0,\n",
       " 1.4142135623730951,\n",
       " 1.7320508075688772,\n",
       " 2.0,\n",
       " 2.23606797749979,\n",
       " 2.449489742783178,\n",
       " 2.6457513110645907,\n",
       " 2.8284271247461903]"
      ]
     },
     "execution_count": 52,
     "metadata": {},
     "output_type": "execute_result"
    }
   ],
   "source": [
    "a=[1,2,3,4,5,6,7,8]\n",
    "list(map(root,a))"
   ]
  },
  {
   "cell_type": "code",
   "execution_count": 55,
   "id": "152f11a5",
   "metadata": {},
   "outputs": [],
   "source": [
    "#lambda function is used to replace def and return in defining a function"
   ]
  },
  {
   "cell_type": "code",
   "execution_count": 58,
   "id": "58743c3d",
   "metadata": {},
   "outputs": [],
   "source": [
    "t=lambda cub:cub**3"
   ]
  },
  {
   "cell_type": "code",
   "execution_count": 59,
   "id": "2c095721",
   "metadata": {},
   "outputs": [
    {
     "data": {
      "text/plain": [
       "27"
      ]
     },
     "execution_count": 59,
     "metadata": {},
     "output_type": "execute_result"
    }
   ],
   "source": [
    "t(3)"
   ]
  },
  {
   "cell_type": "code",
   "execution_count": 60,
   "id": "e0aa6446",
   "metadata": {},
   "outputs": [],
   "source": [
    "#filter function is used to filter out values that satify a given condition"
   ]
  },
  {
   "cell_type": "code",
   "execution_count": null,
   "id": "cc502115",
   "metadata": {},
   "outputs": [],
   "source": []
  }
 ],
 "metadata": {
  "kernelspec": {
   "display_name": "Python 3 (ipykernel)",
   "language": "python",
   "name": "python3"
  },
  "language_info": {
   "codemirror_mode": {
    "name": "ipython",
    "version": 3
   },
   "file_extension": ".py",
   "mimetype": "text/x-python",
   "name": "python",
   "nbconvert_exporter": "python",
   "pygments_lexer": "ipython3",
   "version": "3.9.7"
  }
 },
 "nbformat": 4,
 "nbformat_minor": 5
}
